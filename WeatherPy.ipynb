{
 "cells": [
  {
   "cell_type": "code",
   "execution_count": 1,
   "metadata": {},
   "outputs": [],
   "source": [
    "# Import dependencies\n",
    "import numpy as np\n",
    "import random\n",
    "from citipy import citipy\n",
    "## Import the requests library.\n",
    "import requests\n",
    "## Import the API key.\n",
    "from config import weather_api_key\n",
    "## Import time library & datetime module \n",
    "import time\n",
    "from datetime import datetime"
   ]
  },
  {
   "cell_type": "code",
   "execution_count": 2,
   "metadata": {},
   "outputs": [
    {
     "data": {
      "text/plain": [
       "<zip at 0x2243a9f3108>"
      ]
     },
     "execution_count": 2,
     "metadata": {},
     "output_type": "execute_result"
    }
   ],
   "source": [
    "# Create a set of random latitude and longitude combinations.\n",
    "lats = np.random.uniform(low=-90.000, high=90.000, size=1500)\n",
    "lngs = np.random.uniform(low=-180.000, high=180.000, size=1500)\n",
    "lat_lngs = zip(lats, lngs)\n",
    "lat_lngs"
   ]
  },
  {
   "cell_type": "code",
   "execution_count": 3,
   "metadata": {},
   "outputs": [],
   "source": [
    "# Add the latitudes and longitudes to a list.\n",
    "coordinates = list(lat_lngs)"
   ]
  },
  {
   "cell_type": "code",
   "execution_count": 4,
   "metadata": {},
   "outputs": [],
   "source": [
    "# Create a list to hold cities.\n",
    "cities = []\n",
    "# Identify nearest city for each lat and lng combination\n",
    "for coordinate in coordinates:\n",
    "    city = citipy.nearest_city(coordinate[0], coordinate[1]).city_name\n",
    "    # If the city is unique, add it to cities list\n",
    "    if city not in cities:\n",
    "        cities.append(city)"
   ]
  },
  {
   "cell_type": "code",
   "execution_count": 5,
   "metadata": {},
   "outputs": [
    {
     "name": "stdout",
     "output_type": "stream",
     "text": [
      "Beginning Data Retrieval     \n",
      "-----------------------------\n"
     ]
    }
   ],
   "source": [
    "# Create an empty list to hold the weather data.\n",
    "city_data = []\n",
    "# Print beginning of the logging.\n",
    "print(\"Beginning Data Retrieval     \")\n",
    "print(\"-----------------------------\")\n",
    "\n",
    "# Create counters.\n",
    "record_count = 1\n",
    "set_count = 1"
   ]
  },
  {
   "cell_type": "code",
   "execution_count": 6,
   "metadata": {},
   "outputs": [],
   "source": [
    "# Starting URL for Weather Map API Call.\n",
    "url = \"http://api.openweathermap.org/data/2.5/weather?units=Imperial&APPID=\" + weather_api_key"
   ]
  },
  {
   "cell_type": "markdown",
   "metadata": {},
   "source": [
    "# OUTDATED:\n",
    "# Loop through all of the cities in our list\n",
    "for i in range(len(cities)):\n",
    "    # Group cities in sets of 50 for logging purposes.\n",
    "    if (i % 50 == 0 and i >= 50):\n",
    "        set_count += 1\n",
    "        record_count = 1\n",
    "        time.sleep(60)\n",
    "    # Create endpoint URL for each city.\n",
    "    city_url = url + \"&q\" + cities[i]"
   ]
  },
  {
   "cell_type": "code",
   "execution_count": null,
   "metadata": {},
   "outputs": [
    {
     "name": "stdout",
     "output_type": "stream",
     "text": [
      "Processing record 1 of Set 1 formoso do araguaia\n",
      "Processing record 2 of Set 1 hermanus\n",
      "Processing record 3 of Set 1 kolaras\n",
      "Processing record 4 of Set 1 vaini\n",
      "Processing record 5 of Set 1 hasaki\n",
      "Processing record 6 of Set 1 lusambo\n",
      "Processing record 7 of Set 1 maragogi\n",
      "Processing record 8 of Set 1 iqaluit\n",
      "Processing record 9 of Set 1 havelock\n",
      "Processing record 10 of Set 1 bredasdorp\n",
      "Processing record 11 of Set 1 coihaique\n",
      "Processing record 12 of Set 1 arraial do cabo\n",
      "Processing record 13 of Set 1 golden gate\n",
      "Processing record 14 of Set 1 chimoio\n",
      "Processing record 15 of Set 1 jackson\n",
      "Processing record 16 of Set 1 cotonou\n",
      "Processing record 17 of Set 1 barrow\n",
      "Processing record 18 of Set 1 port hedland\n",
      "Processing record 19 of Set 1 rikitea\n",
      "Processing record 20 of Set 1 north bend\n",
      "Processing record 21 of Set 1 mataura\n",
      "Processing record 22 of Set 1 khatanga\n",
      "Processing record 23 of Set 1 waipawa\n",
      "Processing record 24 of Set 1 udachnyy\n",
      "Processing record 25 of Set 1 lompoc\n",
      "Processing record 26 of Set 1 komsomolets\n",
      "Processing record 27 of Set 1 atambua\n",
      "Processing record 28 of Set 1 taitung\n",
      "Processing record 29 of Set 1 chokurdakh\n",
      "Processing record 30 of Set 1 maningrida\n",
      "Processing record 31 of Set 1 palana\n",
      "Processing record 32 of Set 1 lebu\n",
      "Processing record 33 of Set 1 bluff\n",
      "Processing record 34 of Set 1 nemuro\n",
      "Processing record 35 of Set 1 nizhniy tsasuchey\n",
      "Processing record 36 of Set 1 yulara\n",
      "Processing record 37 of Set 1 belushya guba\n",
      "Processing record 38 of Set 1 yellowknife\n",
      "Processing record 39 of Set 1 karla\n",
      "Processing record 40 of Set 1 komsomolskiy\n",
      "Processing record 41 of Set 1 ambilobe\n",
      "Processing record 42 of Set 1 ushuaia\n",
      "Processing record 43 of Set 1 mys shmidta\n",
      "Processing record 44 of Set 1 mahajanga\n",
      "Processing record 45 of Set 1 touros\n",
      "Processing record 46 of Set 1 marzuq\n",
      "Processing record 47 of Set 1 quelimane\n",
      "Processing record 48 of Set 1 punta arenas\n",
      "Processing record 49 of Set 1 barentsburg\n",
      "Processing record 50 of Set 1 ibra\n"
     ]
    }
   ],
   "source": [
    "# Loop through all cities in the list.\n",
    "for i, city in enumerate(cities):\n",
    "    \n",
    "    # Group cities in sets of 50 for logging purposes.\n",
    "    if (i % 50 == 0 and i >= 50):\n",
    "        set_count += 1\n",
    "        record_count = 1\n",
    "        time.sleep(60)\n",
    "        \n",
    "    # Create endpoint URL for each city.\n",
    "    city_url = url + \"&q\" + city.replace(\" \",\"+\")\n",
    "    \n",
    "    # Log the URL, record_count, set_numbers and city.\n",
    "    print(f\"Processing record {record_count} of Set {set_count} {city}\")\n",
    "    # Add 1 to the record count\n",
    "    record_count +=1"
   ]
  },
  {
   "cell_type": "code",
   "execution_count": null,
   "metadata": {},
   "outputs": [],
   "source": []
  }
 ],
 "metadata": {
  "kernelspec": {
   "display_name": "PythonData",
   "language": "python",
   "name": "pythondata"
  },
  "language_info": {
   "codemirror_mode": {
    "name": "ipython",
    "version": 3
   },
   "file_extension": ".py",
   "mimetype": "text/x-python",
   "name": "python",
   "nbconvert_exporter": "python",
   "pygments_lexer": "ipython3",
   "version": "3.7.6"
  }
 },
 "nbformat": 4,
 "nbformat_minor": 4
}
